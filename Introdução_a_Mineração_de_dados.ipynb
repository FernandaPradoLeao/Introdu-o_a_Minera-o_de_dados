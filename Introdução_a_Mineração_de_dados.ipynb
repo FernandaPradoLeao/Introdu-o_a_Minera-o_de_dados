{
  "cells": [
    {
      "cell_type": "markdown",
      "metadata": {
        "id": "WMiG8f_vKi4V"
      },
      "source": [
        "# 1 - Leitura e análise de dados"
      ]
    },
    {
      "cell_type": "code",
      "execution_count": 14,
      "metadata": {
        "id": "aUTV-8XGKi4Y"
      },
      "outputs": [],
      "source": [
        "# importação das bibliotecas \n",
        "import pandas as pd\n",
        "from sklearn.preprocessing import MinMaxScaler\n",
        "from sklearn.preprocessing import LabelEncoder\n",
        "from sklearn.model_selection import train_test_split\n",
        "from keras.models import Sequential\n",
        "from keras.layers import Dense, InputLayer\n",
        "from sklearn.metrics import mean_squared_error\n",
        "import numpy as np\n",
        "import matplotlib.pyplot as plt\n",
        "import plotly.offline as py\n",
        "import plotly.graph_objs as go"
      ]
    },
    {
      "cell_type": "code",
      "execution_count": 15,
      "metadata": {
        "id": "CKHDD4I7Ki4Z"
      },
      "outputs": [],
      "source": [
        "# Leitura da base de dados\n",
        "df = pd.read_csv('notebooks.csv')"
      ]
    },
    {
      "cell_type": "code",
      "execution_count": 16,
      "metadata": {
        "colab": {
          "base_uri": "https://localhost:8080/"
        },
        "id": "CQwFJDx-Ki4c",
        "outputId": "eca97a83-eb74-48f6-df4e-ae78906139f6"
      },
      "outputs": [
        {
          "output_type": "execute_result",
          "data": {
            "text/plain": [
              "marca                object\n",
              "ano                   int64\n",
              "qtd_nucleos           int64\n",
              "qtd_threads           int64\n",
              "ram                   int64\n",
              "gpu_dedicada         object\n",
              "ram_gpu               int64\n",
              "entradas_usb          int64\n",
              "duracao_bateria       int64\n",
              "resolucao_tela       object\n",
              "tipo_tela            object\n",
              "tela_touch           object\n",
              "armazenamento_hdd     int64\n",
              "armazenamento_ssd     int64\n",
              "segmento             object\n",
              "valor                 int64\n",
              "dtype: object"
            ]
          },
          "metadata": {},
          "execution_count": 16
        }
      ],
      "source": [
        "df.dtypes"
      ]
    },
    {
      "cell_type": "code",
      "source": [
        "# Exibe informações da quantidade de valores núlos e tipo de dados das colunas\n",
        "df.info()"
      ],
      "metadata": {
        "colab": {
          "base_uri": "https://localhost:8080/"
        },
        "id": "7oNk5WGzVmbe",
        "outputId": "e190f62c-687a-4eaf-a5f1-98f6a031380e"
      },
      "execution_count": 17,
      "outputs": [
        {
          "output_type": "stream",
          "name": "stdout",
          "text": [
            "<class 'pandas.core.frame.DataFrame'>\n",
            "RangeIndex: 50000 entries, 0 to 49999\n",
            "Data columns (total 16 columns):\n",
            " #   Column             Non-Null Count  Dtype \n",
            "---  ------             --------------  ----- \n",
            " 0   marca              50000 non-null  object\n",
            " 1   ano                50000 non-null  int64 \n",
            " 2   qtd_nucleos        50000 non-null  int64 \n",
            " 3   qtd_threads        50000 non-null  int64 \n",
            " 4   ram                50000 non-null  int64 \n",
            " 5   gpu_dedicada       50000 non-null  object\n",
            " 6   ram_gpu            50000 non-null  int64 \n",
            " 7   entradas_usb       50000 non-null  int64 \n",
            " 8   duracao_bateria    50000 non-null  int64 \n",
            " 9   resolucao_tela     50000 non-null  object\n",
            " 10  tipo_tela          50000 non-null  object\n",
            " 11  tela_touch         50000 non-null  object\n",
            " 12  armazenamento_hdd  50000 non-null  int64 \n",
            " 13  armazenamento_ssd  50000 non-null  int64 \n",
            " 14  segmento           50000 non-null  object\n",
            " 15  valor              50000 non-null  int64 \n",
            "dtypes: int64(10), object(6)\n",
            "memory usage: 6.1+ MB\n"
          ]
        }
      ]
    },
    {
      "cell_type": "code",
      "execution_count": 18,
      "metadata": {
        "colab": {
          "base_uri": "https://localhost:8080/",
          "height": 364
        },
        "id": "D4vkNMtjKi4d",
        "outputId": "a0292f01-4e27-42e0-dc0d-73c934e63e2c"
      },
      "outputs": [
        {
          "output_type": "execute_result",
          "data": {
            "text/plain": [
              "                ano   qtd_nucleos   qtd_threads           ram       ram_gpu  \\\n",
              "count  50000.000000  50000.000000  50000.000000  50000.000000  50000.000000   \n",
              "mean    2016.480620      7.330480     11.006360     13.679560      1.224760   \n",
              "std        4.033315      2.931633      5.087667     10.504746      2.344456   \n",
              "min     2010.000000      2.000000      2.000000      2.000000      0.000000   \n",
              "25%     2013.000000      4.000000      7.000000      8.000000      0.000000   \n",
              "50%     2017.000000      8.000000     10.000000     12.000000      0.000000   \n",
              "75%     2020.000000     10.000000     14.000000     16.000000      0.000000   \n",
              "max     2023.000000     12.000000     24.000000     64.000000     12.000000   \n",
              "\n",
              "       entradas_usb  duracao_bateria  armazenamento_hdd  armazenamento_ssd  \\\n",
              "count  50000.000000     50000.000000       50000.000000       50000.000000   \n",
              "mean       2.615240       345.445820         334.080000         610.287500   \n",
              "std        0.882981       192.055706         577.087267         645.129583   \n",
              "min        1.000000        30.000000           0.000000           0.000000   \n",
              "25%        2.000000       149.000000           0.000000         250.000000   \n",
              "50%        3.000000       418.000000           0.000000         250.000000   \n",
              "75%        3.000000       522.000000         500.000000        1000.000000   \n",
              "max        4.000000       600.000000        2000.000000        2000.000000   \n",
              "\n",
              "              valor  \n",
              "count  50000.000000  \n",
              "mean   15233.142220  \n",
              "std     6089.487725  \n",
              "min     2522.000000  \n",
              "25%     9772.000000  \n",
              "50%    16001.000000  \n",
              "75%    20140.250000  \n",
              "max    28442.000000  "
            ],
            "text/html": [
              "\n",
              "  <div id=\"df-636c6962-039b-4507-8f38-7b6ad3a33b62\">\n",
              "    <div class=\"colab-df-container\">\n",
              "      <div>\n",
              "<style scoped>\n",
              "    .dataframe tbody tr th:only-of-type {\n",
              "        vertical-align: middle;\n",
              "    }\n",
              "\n",
              "    .dataframe tbody tr th {\n",
              "        vertical-align: top;\n",
              "    }\n",
              "\n",
              "    .dataframe thead th {\n",
              "        text-align: right;\n",
              "    }\n",
              "</style>\n",
              "<table border=\"1\" class=\"dataframe\">\n",
              "  <thead>\n",
              "    <tr style=\"text-align: right;\">\n",
              "      <th></th>\n",
              "      <th>ano</th>\n",
              "      <th>qtd_nucleos</th>\n",
              "      <th>qtd_threads</th>\n",
              "      <th>ram</th>\n",
              "      <th>ram_gpu</th>\n",
              "      <th>entradas_usb</th>\n",
              "      <th>duracao_bateria</th>\n",
              "      <th>armazenamento_hdd</th>\n",
              "      <th>armazenamento_ssd</th>\n",
              "      <th>valor</th>\n",
              "    </tr>\n",
              "  </thead>\n",
              "  <tbody>\n",
              "    <tr>\n",
              "      <th>count</th>\n",
              "      <td>50000.000000</td>\n",
              "      <td>50000.000000</td>\n",
              "      <td>50000.000000</td>\n",
              "      <td>50000.000000</td>\n",
              "      <td>50000.000000</td>\n",
              "      <td>50000.000000</td>\n",
              "      <td>50000.000000</td>\n",
              "      <td>50000.000000</td>\n",
              "      <td>50000.000000</td>\n",
              "      <td>50000.000000</td>\n",
              "    </tr>\n",
              "    <tr>\n",
              "      <th>mean</th>\n",
              "      <td>2016.480620</td>\n",
              "      <td>7.330480</td>\n",
              "      <td>11.006360</td>\n",
              "      <td>13.679560</td>\n",
              "      <td>1.224760</td>\n",
              "      <td>2.615240</td>\n",
              "      <td>345.445820</td>\n",
              "      <td>334.080000</td>\n",
              "      <td>610.287500</td>\n",
              "      <td>15233.142220</td>\n",
              "    </tr>\n",
              "    <tr>\n",
              "      <th>std</th>\n",
              "      <td>4.033315</td>\n",
              "      <td>2.931633</td>\n",
              "      <td>5.087667</td>\n",
              "      <td>10.504746</td>\n",
              "      <td>2.344456</td>\n",
              "      <td>0.882981</td>\n",
              "      <td>192.055706</td>\n",
              "      <td>577.087267</td>\n",
              "      <td>645.129583</td>\n",
              "      <td>6089.487725</td>\n",
              "    </tr>\n",
              "    <tr>\n",
              "      <th>min</th>\n",
              "      <td>2010.000000</td>\n",
              "      <td>2.000000</td>\n",
              "      <td>2.000000</td>\n",
              "      <td>2.000000</td>\n",
              "      <td>0.000000</td>\n",
              "      <td>1.000000</td>\n",
              "      <td>30.000000</td>\n",
              "      <td>0.000000</td>\n",
              "      <td>0.000000</td>\n",
              "      <td>2522.000000</td>\n",
              "    </tr>\n",
              "    <tr>\n",
              "      <th>25%</th>\n",
              "      <td>2013.000000</td>\n",
              "      <td>4.000000</td>\n",
              "      <td>7.000000</td>\n",
              "      <td>8.000000</td>\n",
              "      <td>0.000000</td>\n",
              "      <td>2.000000</td>\n",
              "      <td>149.000000</td>\n",
              "      <td>0.000000</td>\n",
              "      <td>250.000000</td>\n",
              "      <td>9772.000000</td>\n",
              "    </tr>\n",
              "    <tr>\n",
              "      <th>50%</th>\n",
              "      <td>2017.000000</td>\n",
              "      <td>8.000000</td>\n",
              "      <td>10.000000</td>\n",
              "      <td>12.000000</td>\n",
              "      <td>0.000000</td>\n",
              "      <td>3.000000</td>\n",
              "      <td>418.000000</td>\n",
              "      <td>0.000000</td>\n",
              "      <td>250.000000</td>\n",
              "      <td>16001.000000</td>\n",
              "    </tr>\n",
              "    <tr>\n",
              "      <th>75%</th>\n",
              "      <td>2020.000000</td>\n",
              "      <td>10.000000</td>\n",
              "      <td>14.000000</td>\n",
              "      <td>16.000000</td>\n",
              "      <td>0.000000</td>\n",
              "      <td>3.000000</td>\n",
              "      <td>522.000000</td>\n",
              "      <td>500.000000</td>\n",
              "      <td>1000.000000</td>\n",
              "      <td>20140.250000</td>\n",
              "    </tr>\n",
              "    <tr>\n",
              "      <th>max</th>\n",
              "      <td>2023.000000</td>\n",
              "      <td>12.000000</td>\n",
              "      <td>24.000000</td>\n",
              "      <td>64.000000</td>\n",
              "      <td>12.000000</td>\n",
              "      <td>4.000000</td>\n",
              "      <td>600.000000</td>\n",
              "      <td>2000.000000</td>\n",
              "      <td>2000.000000</td>\n",
              "      <td>28442.000000</td>\n",
              "    </tr>\n",
              "  </tbody>\n",
              "</table>\n",
              "</div>\n",
              "      <button class=\"colab-df-convert\" onclick=\"convertToInteractive('df-636c6962-039b-4507-8f38-7b6ad3a33b62')\"\n",
              "              title=\"Convert this dataframe to an interactive table.\"\n",
              "              style=\"display:none;\">\n",
              "        \n",
              "  <svg xmlns=\"http://www.w3.org/2000/svg\" height=\"24px\"viewBox=\"0 0 24 24\"\n",
              "       width=\"24px\">\n",
              "    <path d=\"M0 0h24v24H0V0z\" fill=\"none\"/>\n",
              "    <path d=\"M18.56 5.44l.94 2.06.94-2.06 2.06-.94-2.06-.94-.94-2.06-.94 2.06-2.06.94zm-11 1L8.5 8.5l.94-2.06 2.06-.94-2.06-.94L8.5 2.5l-.94 2.06-2.06.94zm10 10l.94 2.06.94-2.06 2.06-.94-2.06-.94-.94-2.06-.94 2.06-2.06.94z\"/><path d=\"M17.41 7.96l-1.37-1.37c-.4-.4-.92-.59-1.43-.59-.52 0-1.04.2-1.43.59L10.3 9.45l-7.72 7.72c-.78.78-.78 2.05 0 2.83L4 21.41c.39.39.9.59 1.41.59.51 0 1.02-.2 1.41-.59l7.78-7.78 2.81-2.81c.8-.78.8-2.07 0-2.86zM5.41 20L4 18.59l7.72-7.72 1.47 1.35L5.41 20z\"/>\n",
              "  </svg>\n",
              "      </button>\n",
              "      \n",
              "  <style>\n",
              "    .colab-df-container {\n",
              "      display:flex;\n",
              "      flex-wrap:wrap;\n",
              "      gap: 12px;\n",
              "    }\n",
              "\n",
              "    .colab-df-convert {\n",
              "      background-color: #E8F0FE;\n",
              "      border: none;\n",
              "      border-radius: 50%;\n",
              "      cursor: pointer;\n",
              "      display: none;\n",
              "      fill: #1967D2;\n",
              "      height: 32px;\n",
              "      padding: 0 0 0 0;\n",
              "      width: 32px;\n",
              "    }\n",
              "\n",
              "    .colab-df-convert:hover {\n",
              "      background-color: #E2EBFA;\n",
              "      box-shadow: 0px 1px 2px rgba(60, 64, 67, 0.3), 0px 1px 3px 1px rgba(60, 64, 67, 0.15);\n",
              "      fill: #174EA6;\n",
              "    }\n",
              "\n",
              "    [theme=dark] .colab-df-convert {\n",
              "      background-color: #3B4455;\n",
              "      fill: #D2E3FC;\n",
              "    }\n",
              "\n",
              "    [theme=dark] .colab-df-convert:hover {\n",
              "      background-color: #434B5C;\n",
              "      box-shadow: 0px 1px 3px 1px rgba(0, 0, 0, 0.15);\n",
              "      filter: drop-shadow(0px 1px 2px rgba(0, 0, 0, 0.3));\n",
              "      fill: #FFFFFF;\n",
              "    }\n",
              "  </style>\n",
              "\n",
              "      <script>\n",
              "        const buttonEl =\n",
              "          document.querySelector('#df-636c6962-039b-4507-8f38-7b6ad3a33b62 button.colab-df-convert');\n",
              "        buttonEl.style.display =\n",
              "          google.colab.kernel.accessAllowed ? 'block' : 'none';\n",
              "\n",
              "        async function convertToInteractive(key) {\n",
              "          const element = document.querySelector('#df-636c6962-039b-4507-8f38-7b6ad3a33b62');\n",
              "          const dataTable =\n",
              "            await google.colab.kernel.invokeFunction('convertToInteractive',\n",
              "                                                     [key], {});\n",
              "          if (!dataTable) return;\n",
              "\n",
              "          const docLinkHtml = 'Like what you see? Visit the ' +\n",
              "            '<a target=\"_blank\" href=https://colab.research.google.com/notebooks/data_table.ipynb>data table notebook</a>'\n",
              "            + ' to learn more about interactive tables.';\n",
              "          element.innerHTML = '';\n",
              "          dataTable['output_type'] = 'display_data';\n",
              "          await google.colab.output.renderOutput(dataTable, element);\n",
              "          const docLink = document.createElement('div');\n",
              "          docLink.innerHTML = docLinkHtml;\n",
              "          element.appendChild(docLink);\n",
              "        }\n",
              "      </script>\n",
              "    </div>\n",
              "  </div>\n",
              "  "
            ]
          },
          "metadata": {},
          "execution_count": 18
        }
      ],
      "source": [
        "# Exibe informações descritivas das colunas numéricas\n",
        "df.describe()"
      ]
    },
    {
      "cell_type": "code",
      "execution_count": 19,
      "metadata": {
        "colab": {
          "base_uri": "https://localhost:8080/",
          "height": 175
        },
        "id": "gYavkCB6Ki4f",
        "outputId": "16856e8d-ed2f-4f99-fc7f-ccd62eb949c9"
      },
      "outputs": [
        {
          "output_type": "execute_result",
          "data": {
            "text/plain": [
              "         marca gpu_dedicada resolucao_tela tipo_tela tela_touch segmento\n",
              "count    50000        50000          50000     50000      50000    50000\n",
              "unique      11            2              4         5          2        8\n",
              "top     xiaomi          não         FULLHD      OLED        não  premium\n",
              "freq      4676        37804          20821     15160      45811    19052"
            ],
            "text/html": [
              "\n",
              "  <div id=\"df-2b4fadf6-2a3b-4a39-a372-d9b212a57d5a\">\n",
              "    <div class=\"colab-df-container\">\n",
              "      <div>\n",
              "<style scoped>\n",
              "    .dataframe tbody tr th:only-of-type {\n",
              "        vertical-align: middle;\n",
              "    }\n",
              "\n",
              "    .dataframe tbody tr th {\n",
              "        vertical-align: top;\n",
              "    }\n",
              "\n",
              "    .dataframe thead th {\n",
              "        text-align: right;\n",
              "    }\n",
              "</style>\n",
              "<table border=\"1\" class=\"dataframe\">\n",
              "  <thead>\n",
              "    <tr style=\"text-align: right;\">\n",
              "      <th></th>\n",
              "      <th>marca</th>\n",
              "      <th>gpu_dedicada</th>\n",
              "      <th>resolucao_tela</th>\n",
              "      <th>tipo_tela</th>\n",
              "      <th>tela_touch</th>\n",
              "      <th>segmento</th>\n",
              "    </tr>\n",
              "  </thead>\n",
              "  <tbody>\n",
              "    <tr>\n",
              "      <th>count</th>\n",
              "      <td>50000</td>\n",
              "      <td>50000</td>\n",
              "      <td>50000</td>\n",
              "      <td>50000</td>\n",
              "      <td>50000</td>\n",
              "      <td>50000</td>\n",
              "    </tr>\n",
              "    <tr>\n",
              "      <th>unique</th>\n",
              "      <td>11</td>\n",
              "      <td>2</td>\n",
              "      <td>4</td>\n",
              "      <td>5</td>\n",
              "      <td>2</td>\n",
              "      <td>8</td>\n",
              "    </tr>\n",
              "    <tr>\n",
              "      <th>top</th>\n",
              "      <td>xiaomi</td>\n",
              "      <td>não</td>\n",
              "      <td>FULLHD</td>\n",
              "      <td>OLED</td>\n",
              "      <td>não</td>\n",
              "      <td>premium</td>\n",
              "    </tr>\n",
              "    <tr>\n",
              "      <th>freq</th>\n",
              "      <td>4676</td>\n",
              "      <td>37804</td>\n",
              "      <td>20821</td>\n",
              "      <td>15160</td>\n",
              "      <td>45811</td>\n",
              "      <td>19052</td>\n",
              "    </tr>\n",
              "  </tbody>\n",
              "</table>\n",
              "</div>\n",
              "      <button class=\"colab-df-convert\" onclick=\"convertToInteractive('df-2b4fadf6-2a3b-4a39-a372-d9b212a57d5a')\"\n",
              "              title=\"Convert this dataframe to an interactive table.\"\n",
              "              style=\"display:none;\">\n",
              "        \n",
              "  <svg xmlns=\"http://www.w3.org/2000/svg\" height=\"24px\"viewBox=\"0 0 24 24\"\n",
              "       width=\"24px\">\n",
              "    <path d=\"M0 0h24v24H0V0z\" fill=\"none\"/>\n",
              "    <path d=\"M18.56 5.44l.94 2.06.94-2.06 2.06-.94-2.06-.94-.94-2.06-.94 2.06-2.06.94zm-11 1L8.5 8.5l.94-2.06 2.06-.94-2.06-.94L8.5 2.5l-.94 2.06-2.06.94zm10 10l.94 2.06.94-2.06 2.06-.94-2.06-.94-.94-2.06-.94 2.06-2.06.94z\"/><path d=\"M17.41 7.96l-1.37-1.37c-.4-.4-.92-.59-1.43-.59-.52 0-1.04.2-1.43.59L10.3 9.45l-7.72 7.72c-.78.78-.78 2.05 0 2.83L4 21.41c.39.39.9.59 1.41.59.51 0 1.02-.2 1.41-.59l7.78-7.78 2.81-2.81c.8-.78.8-2.07 0-2.86zM5.41 20L4 18.59l7.72-7.72 1.47 1.35L5.41 20z\"/>\n",
              "  </svg>\n",
              "      </button>\n",
              "      \n",
              "  <style>\n",
              "    .colab-df-container {\n",
              "      display:flex;\n",
              "      flex-wrap:wrap;\n",
              "      gap: 12px;\n",
              "    }\n",
              "\n",
              "    .colab-df-convert {\n",
              "      background-color: #E8F0FE;\n",
              "      border: none;\n",
              "      border-radius: 50%;\n",
              "      cursor: pointer;\n",
              "      display: none;\n",
              "      fill: #1967D2;\n",
              "      height: 32px;\n",
              "      padding: 0 0 0 0;\n",
              "      width: 32px;\n",
              "    }\n",
              "\n",
              "    .colab-df-convert:hover {\n",
              "      background-color: #E2EBFA;\n",
              "      box-shadow: 0px 1px 2px rgba(60, 64, 67, 0.3), 0px 1px 3px 1px rgba(60, 64, 67, 0.15);\n",
              "      fill: #174EA6;\n",
              "    }\n",
              "\n",
              "    [theme=dark] .colab-df-convert {\n",
              "      background-color: #3B4455;\n",
              "      fill: #D2E3FC;\n",
              "    }\n",
              "\n",
              "    [theme=dark] .colab-df-convert:hover {\n",
              "      background-color: #434B5C;\n",
              "      box-shadow: 0px 1px 3px 1px rgba(0, 0, 0, 0.15);\n",
              "      filter: drop-shadow(0px 1px 2px rgba(0, 0, 0, 0.3));\n",
              "      fill: #FFFFFF;\n",
              "    }\n",
              "  </style>\n",
              "\n",
              "      <script>\n",
              "        const buttonEl =\n",
              "          document.querySelector('#df-2b4fadf6-2a3b-4a39-a372-d9b212a57d5a button.colab-df-convert');\n",
              "        buttonEl.style.display =\n",
              "          google.colab.kernel.accessAllowed ? 'block' : 'none';\n",
              "\n",
              "        async function convertToInteractive(key) {\n",
              "          const element = document.querySelector('#df-2b4fadf6-2a3b-4a39-a372-d9b212a57d5a');\n",
              "          const dataTable =\n",
              "            await google.colab.kernel.invokeFunction('convertToInteractive',\n",
              "                                                     [key], {});\n",
              "          if (!dataTable) return;\n",
              "\n",
              "          const docLinkHtml = 'Like what you see? Visit the ' +\n",
              "            '<a target=\"_blank\" href=https://colab.research.google.com/notebooks/data_table.ipynb>data table notebook</a>'\n",
              "            + ' to learn more about interactive tables.';\n",
              "          element.innerHTML = '';\n",
              "          dataTable['output_type'] = 'display_data';\n",
              "          await google.colab.output.renderOutput(dataTable, element);\n",
              "          const docLink = document.createElement('div');\n",
              "          docLink.innerHTML = docLinkHtml;\n",
              "          element.appendChild(docLink);\n",
              "        }\n",
              "      </script>\n",
              "    </div>\n",
              "  </div>\n",
              "  "
            ]
          },
          "metadata": {},
          "execution_count": 19
        }
      ],
      "source": [
        "# Exibe informações descritivas das colunas textuais\n",
        "df.describe(include='O')"
      ]
    },
    {
      "cell_type": "code",
      "execution_count": 20,
      "metadata": {
        "colab": {
          "base_uri": "https://localhost:8080/"
        },
        "id": "jdybHRh5Ki4f",
        "outputId": "94bd121b-055c-4b6a-ac4e-f0c97718d2f7"
      },
      "outputs": [
        {
          "output_type": "execute_result",
          "data": {
            "text/plain": [
              "marca                0\n",
              "ano                  0\n",
              "qtd_nucleos          0\n",
              "qtd_threads          0\n",
              "ram                  0\n",
              "gpu_dedicada         0\n",
              "ram_gpu              0\n",
              "entradas_usb         0\n",
              "duracao_bateria      0\n",
              "resolucao_tela       0\n",
              "tipo_tela            0\n",
              "tela_touch           0\n",
              "armazenamento_hdd    0\n",
              "armazenamento_ssd    0\n",
              "segmento             0\n",
              "valor                0\n",
              "dtype: int64"
            ]
          },
          "metadata": {},
          "execution_count": 20
        }
      ],
      "source": [
        "# Exibe a quantidade de valores núlos \n",
        "df.isna().sum()"
      ]
    },
    {
      "cell_type": "markdown",
      "metadata": {
        "id": "RowKbnJ3Ki4g"
      },
      "source": [
        "# 2 - Tratar dados"
      ]
    },
    {
      "cell_type": "code",
      "execution_count": 21,
      "metadata": {
        "colab": {
          "base_uri": "https://localhost:8080/"
        },
        "id": "WbX6vJN1Ki4i",
        "outputId": "509321ab-1e07-4e3a-f1a8-7f006b917206"
      },
      "outputs": [
        {
          "output_type": "execute_result",
          "data": {
            "text/plain": [
              "['marca',\n",
              " 'gpu_dedicada',\n",
              " 'resolucao_tela',\n",
              " 'tipo_tela',\n",
              " 'tela_touch',\n",
              " 'segmento']"
            ]
          },
          "metadata": {},
          "execution_count": 21
        }
      ],
      "source": [
        "# Lista as colunas de valores textuais\n",
        "df.select_dtypes(include='object').columns.tolist()"
      ]
    },
    {
      "cell_type": "code",
      "execution_count": 22,
      "metadata": {
        "colab": {
          "base_uri": "https://localhost:8080/"
        },
        "id": "3Rvz9fZiKi4j",
        "outputId": "6764dd14-7bcf-4f6a-e2ee-1c8da8f680f1"
      },
      "outputs": [
        {
          "output_type": "execute_result",
          "data": {
            "text/plain": [
              "array(['positivo', 'lenovo', 'asus', 'hp', 'huawei', 'dell', 'apple',\n",
              "       'acer', 'xiaomi', 'samsung', 'razer'], dtype=object)"
            ]
          },
          "metadata": {},
          "execution_count": 22
        }
      ],
      "source": [
        "# Exibe os valores únicos da coluna marca\n",
        "df.marca.unique()"
      ]
    },
    {
      "cell_type": "code",
      "execution_count": 23,
      "metadata": {
        "id": "30Q8Ej9LKi4k"
      },
      "outputs": [],
      "source": [
        "# Altera a coluna marca para valores numéricos\n",
        "le = LabelEncoder()\n",
        "df['marca'] = le.fit_transform(df['marca'])"
      ]
    },
    {
      "cell_type": "code",
      "execution_count": 24,
      "metadata": {
        "colab": {
          "base_uri": "https://localhost:8080/"
        },
        "id": "c1JhecQhKi4l",
        "outputId": "dd3afd07-d05a-4a72-8838-7d6f790309d7"
      },
      "outputs": [
        {
          "output_type": "execute_result",
          "data": {
            "text/plain": [
              "array(['não', 'sim'], dtype=object)"
            ]
          },
          "metadata": {},
          "execution_count": 24
        }
      ],
      "source": [
        "# Para verificar os valores únicos na coluna gpu_dedicada\n",
        "df.gpu_dedicada.unique()"
      ]
    },
    {
      "cell_type": "code",
      "execution_count": 25,
      "metadata": {
        "id": "2HNn5G8-Ki4m"
      },
      "outputs": [],
      "source": [
        "# Transformar coluna gpu_dedicada em numérica\n",
        "df.loc[df['gpu_dedicada'] == 'não', 'gpu_dedicada'] = 0\n",
        "df.loc[df['gpu_dedicada'] == 'sim', 'gpu_dedicada'] = 1\n",
        "\n",
        "df['gpu_dedicada'] = pd.to_numeric(df['gpu_dedicada'])"
      ]
    },
    {
      "cell_type": "code",
      "execution_count": 26,
      "metadata": {
        "colab": {
          "base_uri": "https://localhost:8080/"
        },
        "id": "2D4E7Q1IKi4m",
        "outputId": "8c236c0e-c218-4609-e2c9-4b11e480c7ad"
      },
      "outputs": [
        {
          "output_type": "execute_result",
          "data": {
            "text/plain": [
              "OLED      15160\n",
              "AMOLED    13326\n",
              "IPS        9867\n",
              "TN         7775\n",
              "VA         3872\n",
              "Name: tipo_tela, dtype: int64"
            ]
          },
          "metadata": {},
          "execution_count": 26
        }
      ],
      "source": [
        "df.tipo_tela.value_counts()"
      ]
    },
    {
      "cell_type": "code",
      "execution_count": 27,
      "metadata": {
        "id": "TfBD1DWUKi4n"
      },
      "outputs": [],
      "source": [
        "# Transformar coluna tipo_tela em numérica\n",
        "df.loc[df['tipo_tela'] == 'TN', 'tipo_tela'] = 0\n",
        "df.loc[df['tipo_tela'] == 'IPS', 'tipo_tela'] = 1\n",
        "df.loc[df['tipo_tela'] == 'VA', 'tipo_tela'] = 2\n",
        "df.loc[df['tipo_tela'] == 'OLED', 'tipo_tela'] = 3\n",
        "df.loc[df['tipo_tela'] == 'AMOLED', 'tipo_tela'] = 4\n",
        "\n",
        "df['tipo_tela'] = pd.to_numeric(df['tipo_tela'])"
      ]
    },
    {
      "cell_type": "code",
      "execution_count": 28,
      "metadata": {
        "colab": {
          "base_uri": "https://localhost:8080/"
        },
        "id": "EfyQT6gSKi4o",
        "outputId": "31c2b093-9261-445a-9dcc-4bff6d21d5b4"
      },
      "outputs": [
        {
          "output_type": "execute_result",
          "data": {
            "text/plain": [
              "array(['não', 'sim'], dtype=object)"
            ]
          },
          "metadata": {},
          "execution_count": 28
        }
      ],
      "source": [
        "# Exibe os valores únicos da coluna tela_touch\n",
        "df.tela_touch.unique()"
      ]
    },
    {
      "cell_type": "code",
      "execution_count": 29,
      "metadata": {
        "id": "EjW3uFhZKi4p"
      },
      "outputs": [],
      "source": [
        "# Transformar coluna tela_touch em numérica\n",
        "df.loc[df['tela_touch'] == 'não', 'tela_touch'] = 0\n",
        "df.loc[df['tela_touch'] == 'sim', 'tela_touch'] = 1\n",
        "\n",
        "df['tela_touch'] = pd.to_numeric(df['tela_touch'])"
      ]
    },
    {
      "cell_type": "code",
      "execution_count": 30,
      "metadata": {
        "colab": {
          "base_uri": "https://localhost:8080/"
        },
        "id": "zpFQFwIoKi4p",
        "outputId": "d2cbfdf6-481f-451f-b779-52ad2a636704"
      },
      "outputs": [
        {
          "output_type": "execute_result",
          "data": {
            "text/plain": [
              "array(['entrada', '2em1', 'intermediario', 'ultraportatil', 'premium',\n",
              "       'jogos_entrada', 'jogos_premium', 'jogos_intermediarios'],\n",
              "      dtype=object)"
            ]
          },
          "metadata": {},
          "execution_count": 30
        }
      ],
      "source": [
        "# Exibe os valores únicos da coluna segmento\n",
        "df.segmento.unique()"
      ]
    },
    {
      "cell_type": "code",
      "execution_count": 31,
      "metadata": {
        "id": "fTa4Ru32Ki4r"
      },
      "outputs": [],
      "source": [
        "df.loc[df['segmento'] == 'entrada', 'segmento'] = 0\n",
        "df.loc[df['segmento'] == 'intermediario', 'segmento'] = 1\n",
        "df.loc[df['segmento'] == 'jogos_entrada', 'segmento'] = 2\n",
        "df.loc[df['segmento'] == '2em1', 'segmento'] = 3\n",
        "df.loc[df['segmento'] == 'jogos_intermediarios', 'segmento'] = 4\n",
        "df.loc[df['segmento'] == 'ultraportatil', 'segmento'] = 5\n",
        "df.loc[df['segmento'] == 'premium', 'segmento'] = 6\n",
        "df.loc[df['segmento'] == 'jogos_premium', 'segmento'] = 7\n",
        "\n",
        "df['segmento'] = pd.to_numeric(df['segmento'])"
      ]
    },
    {
      "cell_type": "code",
      "execution_count": 32,
      "metadata": {
        "colab": {
          "base_uri": "https://localhost:8080/"
        },
        "id": "M8Bln6qkKi4s",
        "outputId": "0458afb2-c65f-4af4-a40a-52cdafc57214"
      },
      "outputs": [
        {
          "output_type": "execute_result",
          "data": {
            "text/plain": [
              "array(['HD', 'FULLHD', 'QUADHD', '4K'], dtype=object)"
            ]
          },
          "metadata": {},
          "execution_count": 32
        }
      ],
      "source": [
        "df.resolucao_tela.unique()"
      ]
    },
    {
      "cell_type": "code",
      "execution_count": 33,
      "metadata": {
        "id": "6kHScEskKi4t"
      },
      "outputs": [],
      "source": [
        "df.loc[df['resolucao_tela'] == 'HD', 'resolucao_tela'] = 0\n",
        "df.loc[df['resolucao_tela'] == 'FULLHD', 'resolucao_tela'] = 1\n",
        "df.loc[df['resolucao_tela'] == 'QUADHD', 'resolucao_tela'] = 2\n",
        "df.loc[df['resolucao_tela'] == '4K', 'resolucao_tela'] = 3\n",
        "\n",
        "df['resolucao_tela'] = pd.to_numeric(df['resolucao_tela'])"
      ]
    },
    {
      "cell_type": "code",
      "execution_count": 35,
      "metadata": {
        "colab": {
          "base_uri": "https://localhost:8080/"
        },
        "id": "dyWaNHv2Ki4t",
        "outputId": "6e7ad6dd-c0f4-4a58-d0dc-cecea29984e5"
      },
      "outputs": [
        {
          "output_type": "stream",
          "name": "stdout",
          "text": [
            "<class 'pandas.core.frame.DataFrame'>\n",
            "RangeIndex: 50000 entries, 0 to 49999\n",
            "Data columns (total 16 columns):\n",
            " #   Column             Non-Null Count  Dtype\n",
            "---  ------             --------------  -----\n",
            " 0   marca              50000 non-null  int64\n",
            " 1   ano                50000 non-null  int64\n",
            " 2   qtd_nucleos        50000 non-null  int64\n",
            " 3   qtd_threads        50000 non-null  int64\n",
            " 4   ram                50000 non-null  int64\n",
            " 5   gpu_dedicada       50000 non-null  int64\n",
            " 6   ram_gpu            50000 non-null  int64\n",
            " 7   entradas_usb       50000 non-null  int64\n",
            " 8   duracao_bateria    50000 non-null  int64\n",
            " 9   resolucao_tela     50000 non-null  int64\n",
            " 10  tipo_tela          50000 non-null  int64\n",
            " 11  tela_touch         50000 non-null  int64\n",
            " 12  armazenamento_hdd  50000 non-null  int64\n",
            " 13  armazenamento_ssd  50000 non-null  int64\n",
            " 14  segmento           50000 non-null  int64\n",
            " 15  valor              50000 non-null  int64\n",
            "dtypes: int64(16)\n",
            "memory usage: 6.1 MB\n"
          ]
        }
      ],
      "source": [
        "df.info()"
      ]
    },
    {
      "cell_type": "code",
      "execution_count": 36,
      "metadata": {
        "id": "9jxoIsGCKi4u"
      },
      "outputs": [],
      "source": [
        "# Separar os dados em X e y\n",
        "X = df.drop('valor', axis = 1)\n",
        "y = df[['valor']]"
      ]
    },
    {
      "cell_type": "code",
      "execution_count": 37,
      "metadata": {
        "id": "B0HVkUEeKi4u"
      },
      "outputs": [],
      "source": [
        "# Normalizaros dados\n",
        "from sklearn.preprocessing import MinMaxScaler\n",
        "\n",
        "scaler_features = MinMaxScaler()\n",
        "scaler_features.fit(X)\n",
        "X = scaler_features.transform(X)\n",
        "\n",
        "scaler_target = MinMaxScaler()\n",
        "scaler_target.fit(y)\n",
        "y = scaler_target.transform(y)"
      ]
    },
    {
      "cell_type": "code",
      "execution_count": 38,
      "metadata": {
        "id": "GIjHzgPAKi4v"
      },
      "outputs": [],
      "source": [
        "# Separa os dados em treinamento e teste com 0.2% para teste\n",
        "X_train, X_test, y_train, y_test = train_test_split(X, y, test_size=0.002, random_state=19)"
      ]
    },
    {
      "cell_type": "markdown",
      "metadata": {
        "id": "l5SEnG8RKi4v"
      },
      "source": [
        "# 3 - Treinamento de uma rede neural para regressão\n",
        "\n"
      ]
    },
    {
      "cell_type": "code",
      "execution_count": 39,
      "metadata": {
        "colab": {
          "base_uri": "https://localhost:8080/"
        },
        "id": "AfCwiWPZKi4x",
        "outputId": "25a7ee9b-9bb4-47c5-b889-9ee603578095"
      },
      "outputs": [
        {
          "output_type": "stream",
          "name": "stdout",
          "text": [
            "Epoch 1/50\n",
            "1092/1092 [==============================] - 4s 3ms/step - loss: 0.0143 - mse: 0.0143 - val_loss: 0.0083 - val_mse: 0.0083\n",
            "Epoch 2/50\n",
            "1092/1092 [==============================] - 4s 3ms/step - loss: 0.0083 - mse: 0.0083 - val_loss: 0.0090 - val_mse: 0.0090\n",
            "Epoch 3/50\n",
            "1092/1092 [==============================] - 3s 3ms/step - loss: 0.0082 - mse: 0.0082 - val_loss: 0.0086 - val_mse: 0.0086\n",
            "Epoch 4/50\n",
            "1092/1092 [==============================] - 3s 3ms/step - loss: 0.0081 - mse: 0.0081 - val_loss: 0.0082 - val_mse: 0.0082\n",
            "Epoch 5/50\n",
            "1092/1092 [==============================] - 3s 3ms/step - loss: 0.0081 - mse: 0.0081 - val_loss: 0.0082 - val_mse: 0.0082\n",
            "Epoch 6/50\n",
            "1092/1092 [==============================] - 4s 4ms/step - loss: 0.0080 - mse: 0.0080 - val_loss: 0.0079 - val_mse: 0.0079\n",
            "Epoch 7/50\n",
            "1092/1092 [==============================] - 3s 3ms/step - loss: 0.0079 - mse: 0.0079 - val_loss: 0.0080 - val_mse: 0.0080\n",
            "Epoch 8/50\n",
            "1092/1092 [==============================] - 3s 3ms/step - loss: 0.0079 - mse: 0.0079 - val_loss: 0.0078 - val_mse: 0.0078\n",
            "Epoch 9/50\n",
            "1092/1092 [==============================] - 3s 3ms/step - loss: 0.0079 - mse: 0.0079 - val_loss: 0.0078 - val_mse: 0.0078\n",
            "Epoch 10/50\n",
            "1092/1092 [==============================] - 4s 4ms/step - loss: 0.0079 - mse: 0.0079 - val_loss: 0.0078 - val_mse: 0.0078\n",
            "Epoch 11/50\n",
            "1092/1092 [==============================] - 3s 3ms/step - loss: 0.0079 - mse: 0.0079 - val_loss: 0.0080 - val_mse: 0.0080\n",
            "Epoch 12/50\n",
            "1092/1092 [==============================] - 3s 3ms/step - loss: 0.0078 - mse: 0.0078 - val_loss: 0.0077 - val_mse: 0.0077\n",
            "Epoch 13/50\n",
            "1092/1092 [==============================] - 3s 3ms/step - loss: 0.0079 - mse: 0.0079 - val_loss: 0.0079 - val_mse: 0.0079\n",
            "Epoch 14/50\n",
            "1092/1092 [==============================] - 5s 4ms/step - loss: 0.0078 - mse: 0.0078 - val_loss: 0.0077 - val_mse: 0.0077\n",
            "Epoch 15/50\n",
            "1092/1092 [==============================] - 7s 6ms/step - loss: 0.0078 - mse: 0.0078 - val_loss: 0.0077 - val_mse: 0.0077\n",
            "Epoch 16/50\n",
            "1092/1092 [==============================] - 4s 3ms/step - loss: 0.0078 - mse: 0.0078 - val_loss: 0.0079 - val_mse: 0.0079\n",
            "Epoch 17/50\n",
            "1092/1092 [==============================] - 5s 4ms/step - loss: 0.0078 - mse: 0.0078 - val_loss: 0.0080 - val_mse: 0.0080\n",
            "Epoch 18/50\n",
            "1092/1092 [==============================] - 3s 3ms/step - loss: 0.0078 - mse: 0.0078 - val_loss: 0.0077 - val_mse: 0.0077\n",
            "Epoch 19/50\n",
            "1092/1092 [==============================] - 3s 3ms/step - loss: 0.0078 - mse: 0.0078 - val_loss: 0.0077 - val_mse: 0.0077\n",
            "Epoch 20/50\n",
            "1092/1092 [==============================] - 3s 3ms/step - loss: 0.0078 - mse: 0.0078 - val_loss: 0.0077 - val_mse: 0.0077\n",
            "Epoch 21/50\n",
            "1092/1092 [==============================] - 4s 4ms/step - loss: 0.0078 - mse: 0.0078 - val_loss: 0.0077 - val_mse: 0.0077\n",
            "Epoch 22/50\n",
            "1092/1092 [==============================] - 5s 5ms/step - loss: 0.0078 - mse: 0.0078 - val_loss: 0.0077 - val_mse: 0.0077\n",
            "Epoch 23/50\n",
            "1092/1092 [==============================] - 8s 8ms/step - loss: 0.0078 - mse: 0.0078 - val_loss: 0.0077 - val_mse: 0.0077\n",
            "Epoch 24/50\n",
            "1092/1092 [==============================] - 6s 5ms/step - loss: 0.0078 - mse: 0.0078 - val_loss: 0.0081 - val_mse: 0.0081\n",
            "Epoch 25/50\n",
            "1092/1092 [==============================] - 4s 3ms/step - loss: 0.0078 - mse: 0.0078 - val_loss: 0.0077 - val_mse: 0.0077\n",
            "Epoch 26/50\n",
            "1092/1092 [==============================] - 4s 4ms/step - loss: 0.0077 - mse: 0.0077 - val_loss: 0.0076 - val_mse: 0.0076\n",
            "Epoch 27/50\n",
            "1092/1092 [==============================] - 5s 5ms/step - loss: 0.0078 - mse: 0.0078 - val_loss: 0.0077 - val_mse: 0.0077\n",
            "Epoch 28/50\n",
            "1092/1092 [==============================] - 10s 9ms/step - loss: 0.0078 - mse: 0.0078 - val_loss: 0.0080 - val_mse: 0.0080\n",
            "Epoch 29/50\n",
            "1092/1092 [==============================] - 8s 7ms/step - loss: 0.0077 - mse: 0.0077 - val_loss: 0.0078 - val_mse: 0.0078\n",
            "Epoch 30/50\n",
            "1092/1092 [==============================] - 4s 4ms/step - loss: 0.0077 - mse: 0.0077 - val_loss: 0.0080 - val_mse: 0.0080\n",
            "Epoch 31/50\n",
            "1092/1092 [==============================] - 3s 3ms/step - loss: 0.0077 - mse: 0.0077 - val_loss: 0.0077 - val_mse: 0.0077\n",
            "Epoch 32/50\n",
            "1092/1092 [==============================] - 3s 3ms/step - loss: 0.0077 - mse: 0.0077 - val_loss: 0.0077 - val_mse: 0.0077\n",
            "Epoch 33/50\n",
            "1092/1092 [==============================] - 3s 3ms/step - loss: 0.0077 - mse: 0.0077 - val_loss: 0.0078 - val_mse: 0.0078\n",
            "Epoch 34/50\n",
            "1092/1092 [==============================] - 5s 5ms/step - loss: 0.0077 - mse: 0.0077 - val_loss: 0.0084 - val_mse: 0.0084\n",
            "Epoch 35/50\n",
            "1092/1092 [==============================] - 4s 3ms/step - loss: 0.0077 - mse: 0.0077 - val_loss: 0.0077 - val_mse: 0.0077\n",
            "Epoch 36/50\n",
            "1092/1092 [==============================] - 3s 3ms/step - loss: 0.0077 - mse: 0.0077 - val_loss: 0.0077 - val_mse: 0.0077\n",
            "Epoch 37/50\n",
            "1092/1092 [==============================] - 3s 3ms/step - loss: 0.0077 - mse: 0.0077 - val_loss: 0.0085 - val_mse: 0.0085\n",
            "Epoch 38/50\n",
            "1092/1092 [==============================] - 4s 3ms/step - loss: 0.0077 - mse: 0.0077 - val_loss: 0.0077 - val_mse: 0.0077\n",
            "Epoch 39/50\n",
            "1092/1092 [==============================] - 3s 3ms/step - loss: 0.0077 - mse: 0.0077 - val_loss: 0.0077 - val_mse: 0.0077\n",
            "Epoch 40/50\n",
            "1092/1092 [==============================] - 3s 3ms/step - loss: 0.0077 - mse: 0.0077 - val_loss: 0.0082 - val_mse: 0.0082\n",
            "Epoch 41/50\n",
            "1092/1092 [==============================] - 3s 3ms/step - loss: 0.0077 - mse: 0.0077 - val_loss: 0.0078 - val_mse: 0.0078\n",
            "Epoch 42/50\n",
            "1092/1092 [==============================] - 4s 4ms/step - loss: 0.0077 - mse: 0.0077 - val_loss: 0.0077 - val_mse: 0.0077\n",
            "Epoch 43/50\n",
            "1092/1092 [==============================] - 4s 3ms/step - loss: 0.0077 - mse: 0.0077 - val_loss: 0.0079 - val_mse: 0.0079\n",
            "Epoch 44/50\n",
            "1092/1092 [==============================] - 3s 3ms/step - loss: 0.0077 - mse: 0.0077 - val_loss: 0.0080 - val_mse: 0.0080\n",
            "Epoch 45/50\n",
            "1092/1092 [==============================] - 3s 3ms/step - loss: 0.0077 - mse: 0.0077 - val_loss: 0.0078 - val_mse: 0.0078\n",
            "Epoch 46/50\n",
            "1092/1092 [==============================] - 4s 4ms/step - loss: 0.0077 - mse: 0.0077 - val_loss: 0.0077 - val_mse: 0.0077\n",
            "Epoch 47/50\n",
            "1092/1092 [==============================] - 3s 3ms/step - loss: 0.0077 - mse: 0.0077 - val_loss: 0.0079 - val_mse: 0.0079\n",
            "Epoch 48/50\n",
            "1092/1092 [==============================] - 3s 3ms/step - loss: 0.0077 - mse: 0.0077 - val_loss: 0.0077 - val_mse: 0.0077\n",
            "Epoch 49/50\n",
            "1092/1092 [==============================] - 5s 5ms/step - loss: 0.0077 - mse: 0.0077 - val_loss: 0.0077 - val_mse: 0.0077\n",
            "Epoch 50/50\n",
            "1092/1092 [==============================] - 5s 5ms/step - loss: 0.0077 - mse: 0.0077 - val_loss: 0.0078 - val_mse: 0.0078\n"
          ]
        }
      ],
      "source": [
        "# Criar uma instância do modelo de rede neural\n",
        "model = Sequential()\n",
        "model.add(InputLayer(input_shape=(X.shape[1],)))\n",
        "model.add(Dense(50, activation='relu'))\n",
        "model.add(Dense(50, activation='relu'))\n",
        "model.add(Dense(50, activation='relu'))\n",
        "model.add(Dense(1, activation='linear'))\n",
        "\n",
        "# compila o modelo\n",
        "model.compile(loss='mean_squared_error', optimizer='adam', metrics=['mse'])\n",
        "\n",
        "# treina o modelo\n",
        "history = model.fit(X_train, y_train, epochs=50, verbose = 1, validation_split = 0.3)"
      ]
    },
    {
      "cell_type": "markdown",
      "metadata": {
        "id": "FJp6ZgtPKi4y"
      },
      "source": [
        "# 4 - Erro médio quadrático (MSE)\n",
        "\n"
      ]
    },
    {
      "cell_type": "code",
      "execution_count": 42,
      "metadata": {
        "colab": {
          "base_uri": "https://localhost:8080/"
        },
        "id": "lRG8oEB5Ki4y",
        "outputId": "89c45338-7c0e-41af-a2cc-aed19b349087"
      },
      "outputs": [
        {
          "output_type": "stream",
          "name": "stdout",
          "text": [
            "4/4 [==============================] - 0s 3ms/step\n",
            "Mean squared error Regressão Linear:  4169641.7819123776\n"
          ]
        }
      ],
      "source": [
        "# Previsão de dados de X_teste com o modelo treinado\n",
        "predict = model.predict(X_test)\n",
        "\n",
        "# Desnormaliza o y_test na variável y_desnormalizado\n",
        "y_test_desnormalizado = scaler_target.inverse_transform(y_test)\n",
        "\n",
        "# Desnormaliza o predict na variável predict_desnormalizado\n",
        "predict_desnormalizado = scaler_target.inverse_transform(predict)\n",
        "\n",
        "# Calculo do mse com a biblioteca do sklearn\n",
        "mse = mean_squared_error(y_test_desnormalizado, predict_desnormalizado)\n",
        "print(\"Mean squared error Regressão Linear: \", mse)\n"
      ]
    },
    {
      "cell_type": "markdown",
      "metadata": {
        "id": "deDZim4dKi4z"
      },
      "source": [
        "# 5 - Gráfico com os valores reais e preditos pelo modelo**"
      ]
    },
    {
      "cell_type": "code",
      "execution_count": 43,
      "metadata": {
        "colab": {
          "base_uri": "https://localhost:8080/",
          "height": 452
        },
        "id": "x-PFrfMgKi40",
        "outputId": "23bcd39a-49a8-4d31-93c8-e109847c8c00"
      },
      "outputs": [
        {
          "output_type": "display_data",
          "data": {
            "text/plain": [
              "<Figure size 640x480 with 1 Axes>"
            ],
            "image/png": "[encoded data removed]"
          },
          "metadata": {}
        }
      ],
      "source": [
        "grafico_x = [x for x in range(1,len(y_test_desnormalizado)+1)]\n",
        "\n",
        "plt.plot(grafico_x, y_test_desnormalizado, label='Real')\n",
        "plt.plot(grafico_x, predict_desnormalizado, label='Predito')\n",
        "\n",
        "plt.title('Comparando valores reais e preditos de teste')\n",
        "plt.legend()\n",
        "\n",
        "plt.ylabel('Valor')\n",
        "\n",
        "plt.show()"
      ]
    },
    {
      "cell_type": "markdown",
      "metadata": {
        "id": "8W6_vpWqKi40"
      },
      "source": [
        "# 6 - Gráfico com o loss de treinamento e validação"
      ]
    },
    {
      "cell_type": "code",
      "execution_count": 44,
      "metadata": {
        "colab": {
          "base_uri": "https://localhost:8080/",
          "height": 430
        },
        "id": "3Wo72MdVKi41",
        "outputId": "b81e1453-9ed2-4f87-e075-f467a4415426"
      },
      "outputs": [
        {
          "output_type": "display_data",
          "data": {
            "text/plain": [
              "<Figure size 640x480 with 1 Axes>"
            ],
            "image/png": "[encoded data removed]"
          },
          "metadata": {}
        }
      ],
      "source": [
        "loss_history = history.history['loss']\n",
        "val_loss_history = history.history['val_loss'] \n",
        "\n",
        "# Definimos os valores do eixo x (as épocas)\n",
        "x = [y+1 for y in range(0,len(loss_history))]\n",
        "\n",
        "plt.plot(x, loss_history, label = \"Loss\")\n",
        "plt.plot(x, val_loss_history, label = \"Validation Loss\")\n",
        "plt.legend()\n",
        "plt.show()"
      ]
    },
    {
      "cell_type": "markdown",
      "metadata": {
        "id": "-aCRhLaKKi41"
      },
      "source": [
        "# 6 - Leitura e análise da base de dados"
      ]
    },
    {
      "cell_type": "code",
      "execution_count": 45,
      "metadata": {
        "id": "tWX4j3qcKi42"
      },
      "outputs": [],
      "source": [
        "# Importação do Pandas\n",
        "import pandas as pd"
      ]
    },
    {
      "cell_type": "code",
      "execution_count": 46,
      "metadata": {
        "id": "rb_3ZEchKi42"
      },
      "outputs": [],
      "source": [
        "# Leitura da base de dados\n",
        "df = pd.read_csv('notebooks_nulos.csv')"
      ]
    },
    {
      "cell_type": "code",
      "source": [
        "df.dtypes"
      ],
      "metadata": {
        "colab": {
          "base_uri": "https://localhost:8080/"
        },
        "id": "EtQtmtbGWrnS",
        "outputId": "f123ffda-d569-45c6-d74b-7b706309a2bd"
      },
      "execution_count": 47,
      "outputs": [
        {
          "output_type": "execute_result",
          "data": {
            "text/plain": [
              "marca                 object\n",
              "ano                  float64\n",
              "qtd_nucleos            int64\n",
              "qtd_threads            int64\n",
              "ram                    int64\n",
              "gpu_dedicada          object\n",
              "ram_gpu                int64\n",
              "entradas_usb           int64\n",
              "duracao_bateria      float64\n",
              "resolucao_tela        object\n",
              "tipo_tela             object\n",
              "tela_touch            object\n",
              "armazenamento_hdd      int64\n",
              "armazenamento_ssd      int64\n",
              "segmento              object\n",
              "dtype: object"
            ]
          },
          "metadata": {},
          "execution_count": 47
        }
      ]
    },
    {
      "cell_type": "code",
      "source": [
        "# Exibe porcentagem de valores nulos por coluna\n",
        "df.isna().sum() * 100 / len(df)"
      ],
      "metadata": {
        "colab": {
          "base_uri": "https://localhost:8080/"
        },
        "id": "Y0NXUxknWuSa",
        "outputId": "f1155c25-063a-4c4f-bb1c-0da68625d7ad"
      },
      "execution_count": 48,
      "outputs": [
        {
          "output_type": "execute_result",
          "data": {
            "text/plain": [
              "marca                 0.700\n",
              "ano                   9.506\n",
              "qtd_nucleos           0.000\n",
              "qtd_threads           0.000\n",
              "ram                   0.000\n",
              "gpu_dedicada          0.000\n",
              "ram_gpu               0.000\n",
              "entradas_usb          0.000\n",
              "duracao_bateria       6.798\n",
              "resolucao_tela        0.000\n",
              "tipo_tela             0.000\n",
              "tela_touch           55.096\n",
              "armazenamento_hdd     0.000\n",
              "armazenamento_ssd     0.000\n",
              "segmento              0.000\n",
              "dtype: float64"
            ]
          },
          "metadata": {},
          "execution_count": 48
        }
      ]
    },
    {
      "cell_type": "code",
      "execution_count": 49,
      "metadata": {
        "id": "rPx7w_P3Ki43"
      },
      "outputs": [],
      "source": [
        "# Remove a coluna tela_touch que possui mais de 50% de valores núlos\n",
        "df.drop('tela_touch', axis = 1, inplace = True)"
      ]
    },
    {
      "cell_type": "code",
      "execution_count": 50,
      "metadata": {
        "id": "lNgSX0imKi44"
      },
      "outputs": [],
      "source": [
        "# Remove as linhas com valores núlos na coluna marca (menos de 1% de valores núlos)\n",
        "df = df.loc[~df['marca'].isna()]"
      ]
    },
    {
      "cell_type": "code",
      "execution_count": 51,
      "metadata": {
        "colab": {
          "base_uri": "https://localhost:8080/"
        },
        "id": "FLwQtHxaKi45",
        "outputId": "0e1d0b38-a54c-41b5-ea38-58dcc2584600"
      },
      "outputs": [
        {
          "output_type": "execute_result",
          "data": {
            "text/plain": [
              "marca                0.000000\n",
              "ano                  9.474320\n",
              "qtd_nucleos          0.000000\n",
              "qtd_threads          0.000000\n",
              "ram                  0.000000\n",
              "gpu_dedicada         0.000000\n",
              "ram_gpu              0.000000\n",
              "entradas_usb         0.000000\n",
              "duracao_bateria      6.805639\n",
              "resolucao_tela       0.000000\n",
              "tipo_tela            0.000000\n",
              "armazenamento_hdd    0.000000\n",
              "armazenamento_ssd    0.000000\n",
              "segmento             0.000000\n",
              "dtype: float64"
            ]
          },
          "metadata": {},
          "execution_count": 51
        }
      ],
      "source": [
        "df.isna().sum() * 100 / len(df)"
      ]
    },
    {
      "cell_type": "code",
      "execution_count": 52,
      "metadata": {
        "id": "3MuzeI8-Ki45"
      },
      "outputs": [],
      "source": [
        "# Cria um loop para percorrer as colunas\n",
        "for col in df.columns:\n",
        "    # Caso a coluna possua valores núlos, irá acrescentar a moda da coluna nos valores nulos\n",
        "    if df[col].isna().sum() > 0:\n",
        "        df.loc[df[col].isna(), col] = df[col].mode()[0]"
      ]
    },
    {
      "cell_type": "code",
      "execution_count": 53,
      "metadata": {
        "colab": {
          "base_uri": "https://localhost:8080/"
        },
        "id": "VeTPDcjGKi46",
        "outputId": "d8fc5a02-91eb-445b-b46c-a64aa696edb4"
      },
      "outputs": [
        {
          "output_type": "execute_result",
          "data": {
            "text/plain": [
              "marca                0\n",
              "ano                  0\n",
              "qtd_nucleos          0\n",
              "qtd_threads          0\n",
              "ram                  0\n",
              "gpu_dedicada         0\n",
              "ram_gpu              0\n",
              "entradas_usb         0\n",
              "duracao_bateria      0\n",
              "resolucao_tela       0\n",
              "tipo_tela            0\n",
              "armazenamento_hdd    0\n",
              "armazenamento_ssd    0\n",
              "segmento             0\n",
              "dtype: int64"
            ]
          },
          "metadata": {},
          "execution_count": 53
        }
      ],
      "source": [
        "df.isna().sum()"
      ]
    },
    {
      "cell_type": "code",
      "execution_count": 54,
      "metadata": {
        "colab": {
          "base_uri": "https://localhost:8080/"
        },
        "id": "w_4zUW7lKi46",
        "outputId": "1c4153e4-c1d3-4df9-c223-09a5ef3618f0"
      },
      "outputs": [
        {
          "output_type": "execute_result",
          "data": {
            "text/plain": [
              "['marca', 'gpu_dedicada', 'resolucao_tela', 'tipo_tela', 'segmento']"
            ]
          },
          "metadata": {},
          "execution_count": 54
        }
      ],
      "source": [
        "# Lista com colunas do tipo object\n",
        "colunas_object  = df.select_dtypes(include='object').columns.tolist()\n",
        "colunas_object"
      ]
    },
    {
      "cell_type": "code",
      "execution_count": 55,
      "metadata": {
        "id": "6BFOkbhKKi47"
      },
      "outputs": [],
      "source": [
        "from sklearn.preprocessing import LabelEncoder\n",
        "# Converter valores textuais para numéricos\n",
        "for coluna in colunas_object:\n",
        "    le = LabelEncoder()\n",
        "    df[coluna] = le.fit_transform(df[coluna])"
      ]
    },
    {
      "cell_type": "code",
      "execution_count": 56,
      "metadata": {
        "colab": {
          "base_uri": "https://localhost:8080/"
        },
        "id": "VBq84WYqKi47",
        "outputId": "f01bd61d-f388-422f-efd9-ceb70b2c49d9"
      },
      "outputs": [
        {
          "output_type": "stream",
          "name": "stdout",
          "text": [
            "<class 'pandas.core.frame.DataFrame'>\n",
            "Int64Index: 49650 entries, 0 to 49999\n",
            "Data columns (total 14 columns):\n",
            " #   Column             Non-Null Count  Dtype  \n",
            "---  ------             --------------  -----  \n",
            " 0   marca              49650 non-null  int64  \n",
            " 1   ano                49650 non-null  float64\n",
            " 2   qtd_nucleos        49650 non-null  int64  \n",
            " 3   qtd_threads        49650 non-null  int64  \n",
            " 4   ram                49650 non-null  int64  \n",
            " 5   gpu_dedicada       49650 non-null  int64  \n",
            " 6   ram_gpu            49650 non-null  int64  \n",
            " 7   entradas_usb       49650 non-null  int64  \n",
            " 8   duracao_bateria    49650 non-null  float64\n",
            " 9   resolucao_tela     49650 non-null  int64  \n",
            " 10  tipo_tela          49650 non-null  int64  \n",
            " 11  armazenamento_hdd  49650 non-null  int64  \n",
            " 12  armazenamento_ssd  49650 non-null  int64  \n",
            " 13  segmento           49650 non-null  int64  \n",
            "dtypes: float64(2), int64(12)\n",
            "memory usage: 5.7 MB\n"
          ]
        }
      ],
      "source": [
        "df.info()"
      ]
    },
    {
      "cell_type": "code",
      "execution_count": 57,
      "metadata": {
        "id": "4dUhLYP9Ki48"
      },
      "outputs": [],
      "source": [
        "from sklearn.model_selection import train_test_split\n",
        "from sklearn.preprocessing import MinMaxScaler\n",
        "from keras.utils import to_categorical\n",
        "\n",
        "# Define valores de X\n",
        "X = df.drop('segmento', axis = 1)\n",
        "\n",
        "# Normaliza os valores de X\n",
        "scaler_features = MinMaxScaler()\n",
        "scaler_features.fit(X)\n",
        "X = scaler_features.transform(X)\n",
        "\n",
        "# Define os valores de y\n",
        "y = df.segmento.values\n",
        "# converte y para one-hot-encoded\n",
        "y = to_categorical(y)\n",
        "\n",
        "# Separa X e y em treinamnto e teste com 20% para teste\n",
        "X_train, X_test, y_train, y_test = train_test_split(X, y, test_size=0.2, random_state=19)"
      ]
    },
    {
      "cell_type": "markdown",
      "metadata": {
        "id": "afzzkVnjKi48"
      },
      "source": [
        "# 7 - Treinamento de uma rede neural para classificação"
      ]
    },
    {
      "cell_type": "code",
      "execution_count": 58,
      "metadata": {
        "id": "Yw0eYjWmKi49"
      },
      "outputs": [],
      "source": [
        "from keras.models import Sequential\n",
        "from keras.layers import Dense, InputLayer"
      ]
    },
    {
      "cell_type": "code",
      "execution_count": 59,
      "metadata": {
        "colab": {
          "base_uri": "https://localhost:8080/"
        },
        "id": "bSTiYoJaKi49",
        "outputId": "cda1ad71-d66d-4eaa-d0ec-5df311beecc7"
      },
      "outputs": [
        {
          "output_type": "execute_result",
          "data": {
            "text/plain": [
              "8"
            ]
          },
          "metadata": {},
          "execution_count": 59
        }
      ],
      "source": [
        "# Quantidade de classes que queremos prever\n",
        "y.shape[1]"
      ]
    },
    {
      "cell_type": "code",
      "execution_count": 61,
      "metadata": {
        "colab": {
          "base_uri": "https://localhost:8080/"
        },
        "id": "3bA9WlFhKi4-",
        "outputId": "429ef5eb-39c7-4efa-95b6-b4bbbe57a648"
      },
      "outputs": [
        {
          "output_type": "stream",
          "name": "stdout",
          "text": [
            "Epoch 1/50\n",
            "1056/1056 [==============================] - 7s 5ms/step - loss: 0.5710 - accuracy: 0.7683 - val_loss: 0.3267 - val_accuracy: 0.8474\n",
            "Epoch 2/50\n",
            "1056/1056 [==============================] - 4s 4ms/step - loss: 0.2858 - accuracy: 0.8713 - val_loss: 0.2695 - val_accuracy: 0.8765\n",
            "Epoch 3/50\n",
            "1056/1056 [==============================] - 4s 4ms/step - loss: 0.2470 - accuracy: 0.8930 - val_loss: 0.2425 - val_accuracy: 0.8907\n",
            "Epoch 4/50\n",
            "1056/1056 [==============================] - 5s 5ms/step - loss: 0.2253 - accuracy: 0.9056 - val_loss: 0.2264 - val_accuracy: 0.9032\n",
            "Epoch 5/50\n",
            "1056/1056 [==============================] - 4s 4ms/step - loss: 0.2142 - accuracy: 0.9108 - val_loss: 0.2067 - val_accuracy: 0.9132\n",
            "Epoch 6/50\n",
            "1056/1056 [==============================] - 4s 4ms/step - loss: 0.2000 - accuracy: 0.9181 - val_loss: 0.2150 - val_accuracy: 0.9077\n",
            "Epoch 7/50\n",
            "1056/1056 [==============================] - 5s 5ms/step - loss: 0.1958 - accuracy: 0.9204 - val_loss: 0.2005 - val_accuracy: 0.9159\n",
            "Epoch 8/50\n",
            "1056/1056 [==============================] - 4s 4ms/step - loss: 0.1875 - accuracy: 0.9230 - val_loss: 0.1909 - val_accuracy: 0.9223\n",
            "Epoch 9/50\n",
            "1056/1056 [==============================] - 4s 4ms/step - loss: 0.1861 - accuracy: 0.9249 - val_loss: 0.2461 - val_accuracy: 0.9013\n",
            "Epoch 10/50\n",
            "1056/1056 [==============================] - 5s 5ms/step - loss: 0.1816 - accuracy: 0.9245 - val_loss: 0.1861 - val_accuracy: 0.9199\n",
            "Epoch 11/50\n",
            "1056/1056 [==============================] - 4s 4ms/step - loss: 0.1772 - accuracy: 0.9267 - val_loss: 0.1970 - val_accuracy: 0.9161\n",
            "Epoch 12/50\n",
            "1056/1056 [==============================] - 4s 4ms/step - loss: 0.1768 - accuracy: 0.9262 - val_loss: 0.1897 - val_accuracy: 0.9178\n",
            "Epoch 13/50\n",
            "1056/1056 [==============================] - 7s 6ms/step - loss: 0.1701 - accuracy: 0.9300 - val_loss: 0.1966 - val_accuracy: 0.9159\n",
            "Epoch 14/50\n",
            "1056/1056 [==============================] - 4s 4ms/step - loss: 0.1672 - accuracy: 0.9319 - val_loss: 0.1745 - val_accuracy: 0.9256\n",
            "Epoch 15/50\n",
            "1056/1056 [==============================] - 4s 4ms/step - loss: 0.1658 - accuracy: 0.9311 - val_loss: 0.1692 - val_accuracy: 0.9315\n",
            "Epoch 16/50\n",
            "1056/1056 [==============================] - 5s 5ms/step - loss: 0.1615 - accuracy: 0.9329 - val_loss: 0.1638 - val_accuracy: 0.9260\n",
            "Epoch 17/50\n",
            "1056/1056 [==============================] - 4s 4ms/step - loss: 0.1568 - accuracy: 0.9334 - val_loss: 0.1596 - val_accuracy: 0.9307\n",
            "Epoch 18/50\n",
            "1056/1056 [==============================] - 4s 4ms/step - loss: 0.1541 - accuracy: 0.9345 - val_loss: 0.1612 - val_accuracy: 0.9290\n",
            "Epoch 19/50\n",
            "1056/1056 [==============================] - 5s 5ms/step - loss: 0.1515 - accuracy: 0.9344 - val_loss: 0.1743 - val_accuracy: 0.9255\n",
            "Epoch 20/50\n",
            "1056/1056 [==============================] - 6s 5ms/step - loss: 0.1490 - accuracy: 0.9358 - val_loss: 0.1584 - val_accuracy: 0.9288\n",
            "Epoch 21/50\n",
            "1056/1056 [==============================] - 4s 4ms/step - loss: 0.1487 - accuracy: 0.9355 - val_loss: 0.1922 - val_accuracy: 0.9162\n",
            "Epoch 22/50\n",
            "1056/1056 [==============================] - 5s 4ms/step - loss: 0.1461 - accuracy: 0.9368 - val_loss: 0.1608 - val_accuracy: 0.9272\n",
            "Epoch 23/50\n",
            "1056/1056 [==============================] - 4s 4ms/step - loss: 0.1428 - accuracy: 0.9361 - val_loss: 0.1567 - val_accuracy: 0.9332\n",
            "Epoch 24/50\n",
            "1056/1056 [==============================] - 5s 4ms/step - loss: 0.1463 - accuracy: 0.9360 - val_loss: 0.1489 - val_accuracy: 0.9339\n",
            "Epoch 25/50\n",
            "1056/1056 [==============================] - 4s 4ms/step - loss: 0.1444 - accuracy: 0.9355 - val_loss: 0.1463 - val_accuracy: 0.9330\n",
            "Epoch 26/50\n",
            "1056/1056 [==============================] - 4s 4ms/step - loss: 0.1367 - accuracy: 0.9377 - val_loss: 0.1747 - val_accuracy: 0.9235\n",
            "Epoch 27/50\n",
            "1056/1056 [==============================] - 5s 5ms/step - loss: 0.1370 - accuracy: 0.9381 - val_loss: 0.1526 - val_accuracy: 0.9320\n",
            "Epoch 28/50\n",
            "1056/1056 [==============================] - 4s 4ms/step - loss: 0.1381 - accuracy: 0.9380 - val_loss: 0.1439 - val_accuracy: 0.9334\n",
            "Epoch 29/50\n",
            "1056/1056 [==============================] - 4s 4ms/step - loss: 0.1355 - accuracy: 0.9386 - val_loss: 0.1432 - val_accuracy: 0.9345\n",
            "Epoch 30/50\n",
            "1056/1056 [==============================] - 4s 3ms/step - loss: 0.1314 - accuracy: 0.9391 - val_loss: 0.1478 - val_accuracy: 0.9290\n",
            "Epoch 31/50\n",
            "1056/1056 [==============================] - 5s 5ms/step - loss: 0.1372 - accuracy: 0.9373 - val_loss: 0.1533 - val_accuracy: 0.9322\n",
            "Epoch 32/50\n",
            "1056/1056 [==============================] - 4s 3ms/step - loss: 0.1331 - accuracy: 0.9393 - val_loss: 0.1462 - val_accuracy: 0.9327\n",
            "Epoch 33/50\n",
            "1056/1056 [==============================] - 4s 4ms/step - loss: 0.1311 - accuracy: 0.9395 - val_loss: 0.1510 - val_accuracy: 0.9268\n",
            "Epoch 34/50\n",
            "1056/1056 [==============================] - 5s 5ms/step - loss: 0.1300 - accuracy: 0.9405 - val_loss: 0.1425 - val_accuracy: 0.9339\n",
            "Epoch 35/50\n",
            "1056/1056 [==============================] - 4s 4ms/step - loss: 0.1284 - accuracy: 0.9398 - val_loss: 0.1610 - val_accuracy: 0.9292\n",
            "Epoch 36/50\n",
            "1056/1056 [==============================] - 4s 4ms/step - loss: 0.1299 - accuracy: 0.9404 - val_loss: 0.1432 - val_accuracy: 0.9357\n",
            "Epoch 37/50\n",
            "1056/1056 [==============================] - 5s 5ms/step - loss: 0.1264 - accuracy: 0.9416 - val_loss: 0.1434 - val_accuracy: 0.9308\n",
            "Epoch 38/50\n",
            "1056/1056 [==============================] - 4s 4ms/step - loss: 0.1278 - accuracy: 0.9406 - val_loss: 0.1475 - val_accuracy: 0.9300\n",
            "Epoch 39/50\n",
            "1056/1056 [==============================] - 4s 4ms/step - loss: 0.1239 - accuracy: 0.9414 - val_loss: 0.1405 - val_accuracy: 0.9342\n",
            "Epoch 40/50\n",
            "1056/1056 [==============================] - 5s 5ms/step - loss: 0.1236 - accuracy: 0.9419 - val_loss: 0.1352 - val_accuracy: 0.9362\n",
            "Epoch 41/50\n",
            "1056/1056 [==============================] - 4s 4ms/step - loss: 0.1244 - accuracy: 0.9414 - val_loss: 0.1511 - val_accuracy: 0.9317\n",
            "Epoch 42/50\n",
            "1056/1056 [==============================] - 4s 4ms/step - loss: 0.1235 - accuracy: 0.9423 - val_loss: 0.1387 - val_accuracy: 0.9324\n",
            "Epoch 43/50\n",
            "1056/1056 [==============================] - 5s 5ms/step - loss: 0.1211 - accuracy: 0.9419 - val_loss: 0.1355 - val_accuracy: 0.9337\n",
            "Epoch 44/50\n",
            "1056/1056 [==============================] - 4s 4ms/step - loss: 0.1310 - accuracy: 0.9406 - val_loss: 0.1364 - val_accuracy: 0.9344\n",
            "Epoch 45/50\n",
            "1056/1056 [==============================] - 4s 4ms/step - loss: 0.1178 - accuracy: 0.9435 - val_loss: 0.1328 - val_accuracy: 0.9392\n",
            "Epoch 46/50\n",
            "1056/1056 [==============================] - 6s 6ms/step - loss: 0.1173 - accuracy: 0.9446 - val_loss: 0.1314 - val_accuracy: 0.9372\n",
            "Epoch 47/50\n",
            "1056/1056 [==============================] - 4s 4ms/step - loss: 0.1171 - accuracy: 0.9446 - val_loss: 0.1289 - val_accuracy: 0.9397\n",
            "Epoch 48/50\n",
            "1056/1056 [==============================] - 4s 4ms/step - loss: 0.1241 - accuracy: 0.9442 - val_loss: 0.1402 - val_accuracy: 0.9345\n",
            "Epoch 49/50\n",
            "1056/1056 [==============================] - 5s 5ms/step - loss: 0.1219 - accuracy: 0.9418 - val_loss: 0.1284 - val_accuracy: 0.9381\n",
            "Epoch 50/50\n",
            "1056/1056 [==============================] - 4s 4ms/step - loss: 0.1155 - accuracy: 0.9436 - val_loss: 0.1286 - val_accuracy: 0.9382\n"
          ]
        }
      ],
      "source": [
        "model = Sequential()\n",
        "# No input_shape, a quantidade de atributos que possuimos\n",
        "model.add(Dense(32, activation='relu', input_shape=(X.shape[1],)))\n",
        "model.add(Dense(64, activation='relu'))\n",
        "model.add(Dense(128, activation='relu'))\n",
        "model.add(Dense(128, activation='relu'))\n",
        "model.add(Dense(128, activation='relu'))\n",
        "model.add(Dense(128, activation='relu'))\n",
        "model.add(Dense(16, activation='relu'))\n",
        "# Na camada de saida de uma classificação, usamos 1 neurônio para cada classe possível e softmax\n",
        "model.add(Dense(y.shape[1], activation='softmax'))\n",
        "# Compilação do modelo\n",
        "model.compile(loss='categorical_crossentropy', optimizer='adam', metrics=['accuracy'])\n",
        "# Treinamento do modelo\n",
        "history = model.fit(X_train, y_train, epochs=50, validation_split=0.15)"
      ]
    },
    {
      "cell_type": "markdown",
      "metadata": {
        "id": "mul3x9OZKi4_"
      },
      "source": [
        "# 8 - Acurácia do modelo."
      ]
    },
    {
      "cell_type": "code",
      "execution_count": 62,
      "metadata": {
        "colab": {
          "base_uri": "https://localhost:8080/"
        },
        "id": "04z7gNE1Ki4_",
        "outputId": "8a16b138-b050-4cac-d182-1e6274d11a8c"
      },
      "outputs": [
        {
          "output_type": "stream",
          "name": "stdout",
          "text": [
            "311/311 [==============================] - 1s 2ms/step - loss: 0.1225 - accuracy: 0.9405\n",
            "Acurácia: 0.9404833912849426\n"
          ]
        }
      ],
      "source": [
        "# calcular a acurácia\n",
        "loss, accuracy = model.evaluate(X_test, y_test)\n",
        "print(f\"Acurácia: {accuracy}\")"
      ]
    },
    {
      "cell_type": "markdown",
      "metadata": {
        "id": "r1nv5n8PKi5A"
      },
      "source": [
        "# 9 - Matriz de confusão."
      ]
    },
    {
      "cell_type": "code",
      "execution_count": 63,
      "metadata": {
        "colab": {
          "base_uri": "https://localhost:8080/"
        },
        "id": "06W2SY29Ki5A",
        "outputId": "87138359-b88b-477d-8ea6-9657fdac26ca"
      },
      "outputs": [
        {
          "output_type": "stream",
          "name": "stdout",
          "text": [
            "311/311 [==============================] - 1s 2ms/step\n"
          ]
        }
      ],
      "source": [
        "from sklearn.metrics import confusion_matrix\n",
        "import seaborn as sns\n",
        "import numpy as np\n",
        "\n",
        "# fazer previsões com o modelo\n",
        "y_pred = model.predict(X_test)\n",
        "y_pred = np.argmax(y_pred, axis=1)\n",
        "y_test = np.argmax(y_test, axis=1)"
      ]
    },
    {
      "cell_type": "code",
      "execution_count": 64,
      "metadata": {
        "id": "oR1w7UqxKi5B"
      },
      "outputs": [],
      "source": [
        "y_pred = le.inverse_transform(y_pred)\n",
        "y_test = le.inverse_transform(y_test)"
      ]
    },
    {
      "cell_type": "code",
      "execution_count": 65,
      "metadata": {
        "colab": {
          "base_uri": "https://localhost:8080/"
        },
        "id": "L3-u2bSpKi5C",
        "outputId": "84a005cd-5607-43a0-be3e-b103b207af5f"
      },
      "outputs": [
        {
          "output_type": "execute_result",
          "data": {
            "text/plain": [
              "array(['2em1', 'entrada', 'intermediario', 'jogos_entrada',\n",
              "       'jogos_intermediarios', 'jogos_premium', 'premium',\n",
              "       'ultraportatil'], dtype=object)"
            ]
          },
          "metadata": {},
          "execution_count": 65
        }
      ],
      "source": [
        "# Lista das possíveis classes\n",
        "le.classes_"
      ]
    },
    {
      "cell_type": "code",
      "execution_count": 67,
      "metadata": {
        "colab": {
          "base_uri": "https://localhost:8080/",
          "height": 574
        },
        "id": "-quVjFwVKi5C",
        "outputId": "8cc3d938-91d1-45a6-a001-a00a77ebf1a0"
      },
      "outputs": [
        {
          "output_type": "display_data",
          "data": {
            "text/plain": [
              "<Figure size 640x480 with 2 Axes>"
            ],
            "image/png": "[encoded data removed]"
          },
          "metadata": {}
        }
      ],
      "source": [
        "# Definir nomes de classe\n",
        "classes_names = le.classes_\n",
        "\n",
        "# Mapear classes reais e previstas para os nomes de classe\n",
        "cm = confusion_matrix(y_test, y_pred, labels=classes_names)\n",
        "\n",
        "# Plotar o heatmap com os nomes das classes\n",
        "sns.heatmap(cm, annot=True, cmap=\"Blues\", fmt=\"d\", xticklabels=classes_names, yticklabels=classes_names)\n",
        "plt.title('Matriz de Confusão')\n",
        "plt.xlabel('Previsões')\n",
        "plt.ylabel('Real')\n",
        "plt.show()\n"
      ]
    },
    {
      "cell_type": "markdown",
      "metadata": {
        "id": "mQNjXjJvKi5D"
      },
      "source": [
        "# 10 - Gráfico com os dados do treinamento.\n",
        "- loss;\n",
        "- val_loss;\n",
        "- accuracy;\n",
        "- val_accuracy;"
      ]
    },
    {
      "cell_type": "code",
      "execution_count": 68,
      "metadata": {
        "colab": {
          "base_uri": "https://localhost:8080/",
          "height": 472
        },
        "id": "44Z_hAUEKi5E",
        "outputId": "73536dcf-a86e-4049-caca-bf7cfb6da45d"
      },
      "outputs": [
        {
          "output_type": "display_data",
          "data": {
            "text/plain": [
              "<Figure size 640x480 with 1 Axes>"
            ],
            "image/png": "[encoded data removed]"
          },
          "metadata": {}
        }
      ],
      "source": [
        "import matplotlib.pyplot as plt\n",
        "\n",
        "loss = history.history['loss']\n",
        "val_loss = history.history['val_loss']  \n",
        "accuracy = history.history['accuracy']  \n",
        "val_accuracy = history.history['val_accuracy']  \n",
        "\n",
        "grafico_x = [x for x in range(1,len(val_accuracy)+1)]\n",
        "\n",
        "plt.plot(grafico_x, loss, label='loss')\n",
        "plt.plot(grafico_x, val_loss, label='val_loss')\n",
        "plt.plot(grafico_x, accuracy, label='accuracy')\n",
        "plt.plot(grafico_x, val_accuracy, label='val_accuracy')\n",
        "\n",
        "plt.title('Treinamento')\n",
        "plt.legend()\n",
        "\n",
        "plt.xlabel('Epoch')\n",
        "plt.ylabel('Loss')\n",
        "\n",
        "plt.show()"
      ]
    }
  ],
  "metadata": {
    "kernelspec": {
      "display_name": "base",
      "language": "python",
      "name": "python3"
    },
    "language_info": {
      "codemirror_mode": {
        "name": "ipython",
        "version": 3
      },
      "file_extension": ".py",
      "mimetype": "text/x-python",
      "name": "python",
      "nbconvert_exporter": "python",
      "pygments_lexer": "ipython3",
      "version": "3.9.16"
    },
    "orig_nbformat": 4,
    "colab": {
      "provenance": []
    }
  },
  "nbformat": 4,
  "nbformat_minor": 0
}